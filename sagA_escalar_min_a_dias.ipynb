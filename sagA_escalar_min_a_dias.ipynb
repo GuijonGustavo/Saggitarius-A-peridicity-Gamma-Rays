{
 "cells": [
  {
   "cell_type": "markdown",
   "id": "53449ed2",
   "metadata": {},
   "source": []
  },
  {
   "cell_type": "markdown",
   "id": "78270614",
   "metadata": {},
   "source": [
    "### Se copiaron los archivos XZ"
   ]
  },
  {
   "cell_type": "markdown",
   "id": "0f51ffab",
   "metadata": {},
   "source": [
    "cp ../e17e11-7-hi-sgra-SGRA/3601/plot/e17e11-7-hi-sgra-SGRA-LY.dat ."
   ]
  },
  {
   "cell_type": "markdown",
   "id": "7779fe1b",
   "metadata": {},
   "source": [
    "Graficar con sagA-hi-LY.plt"
   ]
  },
  {
   "cell_type": "markdown",
   "id": "8ccb0898",
   "metadata": {},
   "source": [
    "# Importing modules\n",
    "import matplotlib.pyplot as plt\n",
    "\n",
    "# Reading image using imread\n",
    "image=plt.imread(\"sagA-hi-LY.eps\")\n",
    "plt.axis('off')\n",
    "plt.figure(figsize=(20, 10))\n",
    "\n",
    "# Displaying read image\n",
    "plt.imshow(image)\n",
    "plt.show()"
   ]
  },
  {
   "cell_type": "markdown",
   "id": "4faf303f",
   "metadata": {},
   "source": [
    "Todos los archivos se van a:\n",
    "\n",
    "cat e17e11-7-hi-sgra-SGRA-LY.dat >> sag-group-hi-LY.dat\n",
    "\n",
    "Y borramos la columna LY"
   ]
  },
  {
   "cell_type": "markdown",
   "id": "219824e0",
   "metadata": {},
   "source": [
    "# Baseline"
   ]
  },
  {
   "cell_type": "code",
   "execution_count": null,
   "id": "e43a67a4",
   "metadata": {},
   "outputs": [],
   "source": [
    "freq = \"hi\"\n",
    "baseline = \"AZ\""
   ]
  },
  {
   "cell_type": "code",
   "execution_count": 1,
   "id": "671c8942",
   "metadata": {},
   "outputs": [],
   "source": [
    "import numpy as np\n",
    "import matplotlib.pyplot as plt\n",
    "from astropy.timeseries import LombScargle\n",
    "from datetime import datetime, timedelta\n",
    "import seaborn as sns\n",
    "from astropy.time import Time\n",
    "sns.set()"
   ]
  },
  {
   "cell_type": "code",
   "execution_count": null,
   "id": "6484326e",
   "metadata": {},
   "outputs": [],
   "source": []
  },
  {
   "cell_type": "markdown",
   "id": "87444547",
   "metadata": {},
   "source": [
    "# RADIO\n",
    "\n",
    "## Timeserie "
   ]
  },
  {
   "cell_type": "code",
   "execution_count": 83,
   "id": "4eb6105f",
   "metadata": {},
   "outputs": [
    {
     "data": {
      "text/plain": [
       "array([57854.37506944, 57854.37511574, 57854.37516204, ...,\n",
       "       57854.54496528, 57854.54530093, 57854.54534722])"
      ]
     },
     "execution_count": 83,
     "metadata": {},
     "output_type": "execute_result"
    }
   ],
   "source": [
    "data_radio = np.loadtxt(\"AA_SELFC_HI_Apr11-new.dat\",converters={0:lambda t: datetime.strptime(t.decode(), '%j:%Y:%H:%M:%S')}, delimiter='\\t', dtype={\n",
    "                            'names': ('time-new', 'time','amp', 'sigma',),\n",
    "                            'formats': ('datetime64[s]', 'float', 'float', 'float')\n",
    "                                }\n",
    "                     )\n",
    "#ordenamos ascendentemente\n",
    "#data_radio = np.sort(data)[::1]\n",
    "\n",
    "t_r = Time(data_radio['time-new']).mjd\n",
    "y_r = data_radio['amp']\n",
    "dy_r = data_radio['sigma']\n",
    "#plt.plot(t_r,y_r, '.')\n",
    "#plt.xlim[:]\n",
    "#plt.errorbar(t_r,y_r, dy_r, linestyle='')\n",
    "np.savetxt(\"AA_SELFC_HI_Apr11-datamash-mjd.dat\", np.c_[t_r, y_r,dy_r])\n",
    "#data_r.shape\n",
    "t_r\n"
   ]
  },
  {
   "cell_type": "code",
   "execution_count": 84,
   "id": "000c0031",
   "metadata": {},
   "outputs": [
    {
     "data": {
      "text/plain": [
       "0.1702777777754818"
      ]
     },
     "execution_count": 84,
     "metadata": {},
     "output_type": "execute_result"
    }
   ],
   "source": [
    "t_r[-1] - t_r[0]"
   ]
  },
  {
   "cell_type": "markdown",
   "id": "5bc96bbf",
   "metadata": {},
   "source": [
    "plot"
   ]
  },
  {
   "cell_type": "code",
   "execution_count": 85,
   "id": "40c6967e",
   "metadata": {},
   "outputs": [
    {
     "data": {
      "text/plain": [
       "[<matplotlib.lines.Line2D at 0x7f34be35d790>]"
      ]
     },
     "execution_count": 85,
     "metadata": {},
     "output_type": "execute_result"
    },
    {
     "data": {
      "image/png": "[encoded data removed]",
      "text/plain": [
       "<Figure size 432x288 with 1 Axes>"
      ]
     },
     "metadata": {},
     "output_type": "display_data"
    }
   ],
   "source": [
    "plt.plot(t_r,y_r, '.')\n",
    "#plt.xlim[:]\n",
    "#plt.errorbar(t_r,y_r, dy_r, linestyle='')"
   ]
  },
  {
   "cell_type": "markdown",
   "id": "8e975958",
   "metadata": {},
   "source": [
    "## Calulate standart deviation"
   ]
  },
  {
   "cell_type": "code",
   "execution_count": 86,
   "id": "90a6d81f",
   "metadata": {},
   "outputs": [
    {
     "data": {
      "text/plain": [
       "(1.4767651547090432, 3.331726861254989)"
      ]
     },
     "execution_count": 86,
     "metadata": {},
     "output_type": "execute_result"
    }
   ],
   "source": [
    "a = data_radio['amp'].mean() - 3 * data_radio['amp'].std()\n",
    "b = data_radio['amp'].mean() + 3 * data_radio['amp'].std()\n",
    "a, b"
   ]
  },
  {
   "cell_type": "code",
   "execution_count": 87,
   "id": "ad0ab4ca",
   "metadata": {},
   "outputs": [
    {
     "data": {
      "text/plain": [
       "(1615,)"
      ]
     },
     "execution_count": 87,
     "metadata": {},
     "output_type": "execute_result"
    }
   ],
   "source": [
    "data_radio.shape"
   ]
  },
  {
   "cell_type": "code",
   "execution_count": 88,
   "id": "69088e9e",
   "metadata": {},
   "outputs": [
    {
     "data": {
      "text/plain": [
       "array([('2017-04-11T09:00:06',  9.00176   , 1.93149392, 0.0022337 ),\n",
       "       ('2017-04-11T09:00:10',  9.00288   , 1.95181131, 0.0022561 ),\n",
       "       ('2017-04-11T09:00:14',  9.004     , 1.95196533, 0.00225188), ...,\n",
       "       ('2017-04-11T13:04:45', 13.07941333, 3.07116786, 0.00331076),\n",
       "       ('2017-04-11T13:05:14', 13.08728   , 3.02866527, 0.00360336),\n",
       "       ('2017-04-11T13:05:18', 13.0884    , 3.06077257, 0.00369049)],\n",
       "      dtype=[('time-new', '<M8[s]'), ('time', '<f8'), ('amp', '<f8'), ('sigma', '<f8')])"
      ]
     },
     "execution_count": 88,
     "metadata": {},
     "output_type": "execute_result"
    }
   ],
   "source": [
    "new = data_radio\n",
    "new"
   ]
  },
  {
   "cell_type": "markdown",
   "id": "281d9c1c",
   "metadata": {},
   "source": [
    "### Clean data with 3-$\\sigma$"
   ]
  },
  {
   "cell_type": "code",
   "execution_count": null,
   "id": "74f8d701",
   "metadata": {},
   "outputs": [],
   "source": [
    "j = -1\n",
    "n = 1\n",
    "while(data_radio.shape[0] != j):\n",
    "    i = 0\n",
    "    f = 0\n",
    "    for row in data_radio: \n",
    "        if (row[1] < a or row[1]) > b:\n",
    "            f = row[1]\n",
    "            data_radio = np.delete(data_radio, i, 0)\n",
    "            if (i>0):\n",
    "                break\n",
    "        i = i + 1\n",
    "        j = i\n",
    "    if(data_radio.shape[0] != j):\n",
    "        print(\"tenemos {} datos anomalos: {}\".format(n, f))\n",
    "    new = data_radio \n",
    "    n = n + 1"
   ]
  },
  {
   "cell_type": "markdown",
   "id": "2c89ada1",
   "metadata": {},
   "source": [
    "## New data with 3-$\\sigma$\n",
    "\n",
    "### With time in MJD"
   ]
  },
  {
   "cell_type": "code",
   "execution_count": 89,
   "id": "2ac98e3a",
   "metadata": {},
   "outputs": [
    {
     "data": {
      "text/plain": [
       "array([57854.37506944, 57854.37511574, 57854.37516204, ...,\n",
       "       57854.54496528, 57854.54530093, 57854.54534722])"
      ]
     },
     "execution_count": 89,
     "metadata": {},
     "output_type": "execute_result"
    }
   ],
   "source": [
    "new_mjd = Time(new['time-new']).mjd\n",
    "np.savetxt(\"AA_SELFC_HI_Apr11-mjd-3sigma.dat\", np.c_[new_mjd, new['amp'], new['sigma']])\n",
    "new_mjd"
   ]
  },
  {
   "cell_type": "code",
   "execution_count": 90,
   "id": "b5d0e5ef",
   "metadata": {},
   "outputs": [],
   "source": [
    "nuevo = np.array(np.c_[new_mjd, new['amp'], new['sigma']])"
   ]
  },
  {
   "cell_type": "markdown",
   "id": "d829faa8",
   "metadata": {},
   "source": [
    " Reescalamos por 100:\n",
    " \n",
    " $(x_{1}-x_{0})*100 + x_{0}$"
   ]
  },
  {
   "cell_type": "code",
   "execution_count": 91,
   "id": "937ec5d3",
   "metadata": {},
   "outputs": [],
   "source": [
    "scala = []\n",
    "for fila in nuevo:\n",
    "    scala.append((fila[0] - nuevo[0][0])*100 + nuevo[0][0])"
   ]
  },
  {
   "cell_type": "code",
   "execution_count": 92,
   "id": "dd1f339e",
   "metadata": {},
   "outputs": [],
   "source": [
    "np.savetxt(\"AA_SELFC_HI_Apr11-mjd-3sigma-sacaladoadias.dat\", np.c_[scala, new['amp'], new['sigma']])"
   ]
  },
  {
   "cell_type": "code",
   "execution_count": 93,
   "id": "d0f9d07e",
   "metadata": {},
   "outputs": [
    {
     "data": {
      "text/plain": [
       "[<matplotlib.lines.Line2D at 0x7f34be279d30>]"
      ]
     },
     "execution_count": 93,
     "metadata": {},
     "output_type": "execute_result"
    },
    {
     "data": {
      "image/png": "[encoded data removed]",
      "text/plain": [
       "<Figure size 432x288 with 1 Axes>"
      ]
     },
     "metadata": {},
     "output_type": "display_data"
    }
   ],
   "source": [
    "plt.plot(scala, new['amp'], '.')"
   ]
  },
  {
   "cell_type": "code",
   "execution_count": null,
   "id": "dc9ec707",
   "metadata": {},
   "outputs": [],
   "source": []
  },
  {
   "cell_type": "code",
   "execution_count": 94,
   "id": "8964c51b",
   "metadata": {},
   "outputs": [],
   "source": [
    "ls_r = LombScargle(new_mjd, new['amp'], new['sigma'])\n",
    "freq_r, power_r = ls_r.autopower()"
   ]
  },
  {
   "cell_type": "code",
   "execution_count": 98,
   "id": "7342bbee",
   "metadata": {},
   "outputs": [
    {
     "data": {
      "text/plain": [
       "Text(0, 0.5, 'Power')"
      ]
     },
     "execution_count": 98,
     "metadata": {},
     "output_type": "execute_result"
    },
    {
     "data": {
      "image/png": "[encoded data removed]",
      "text/plain": [
       "<Figure size 432x288 with 1 Axes>"
      ]
     },
     "metadata": {},
     "output_type": "display_data"
    }
   ],
   "source": [
    "plt.plot(1./freq_r, power_r)\n",
    "#plt.axhline(y=0.041, color='black', linestyle='--')\n",
    "plt.xlim([0.01, .25])\n",
    "#plt.ylim([0, .2])\n",
    "plt.xlabel(\"Period [d]\")\n",
    "plt.ylabel(\"Power\")"
   ]
  },
  {
   "cell_type": "code",
   "execution_count": 26,
   "id": "746f13a1",
   "metadata": {},
   "outputs": [
    {
     "data": {
      "text/plain": [
       "3.9036620180981354e-60"
      ]
     },
     "execution_count": 26,
     "metadata": {},
     "output_type": "execute_result"
    }
   ],
   "source": [
    "ls_r.false_alarm_probability(power=0.125)"
   ]
  },
  {
   "cell_type": "code",
   "execution_count": 27,
   "id": "af37ae78",
   "metadata": {},
   "outputs": [
    {
     "data": {
      "text/plain": [
       "array([0.01088643, 0.01155573, 0.01306406, 0.01518475])"
      ]
     },
     "execution_count": 27,
     "metadata": {},
     "output_type": "execute_result"
    }
   ],
   "source": [
    "probabilities = [0.1, 0.05, 0.01, 0.001]\n",
    "ls_r.false_alarm_level(probabilities)"
   ]
  },
  {
   "cell_type": "code",
   "execution_count": null,
   "id": "26ea2f55",
   "metadata": {},
   "outputs": [],
   "source": [
    "best_frequency = freq_r[np.argmax(power_r)]\n",
    "#ls = LombScargle(t, y, dy)\n",
    "t_fit = np.linspace(0, 1)\n",
    "y_fit = ls_r.model(t_fit, best_frequency)\n",
    "plt.plot(y_fit)\n",
    "best_frequency\n",
    "#np.argmax(power_r)\n",
    "#power_r\n",
    "#freq_r[51]"
   ]
  },
  {
   "cell_type": "markdown",
   "id": "07e1f3be",
   "metadata": {},
   "source": [
    "## Aquí es el periodograma, pero escalado por lo que la periodicidad, solo hay que dividir entre 100, que es la que está arriba:"
   ]
  },
  {
   "cell_type": "code",
   "execution_count": null,
   "id": "dd865e8a",
   "metadata": {},
   "outputs": [],
   "source": [
    "ls_p = LombScargle(scala, new['flux'], new['err'])\n",
    "freq_p, power_p = ls_p.autopower()\n",
    "plt.plot(1./freq_p, power_p)\n",
    "plt.xlim([3.5, 6])\n",
    "plt.ylim([0, .06])\n",
    "\n"
   ]
  },
  {
   "cell_type": "code",
   "execution_count": null,
   "id": "150e90c3",
   "metadata": {},
   "outputs": [],
   "source": [
    "#np.savetxt('sagA-LY-withoutOutliners.txt', np.c_[freq_r, power_r])"
   ]
  },
  {
   "cell_type": "code",
   "execution_count": null,
   "id": "ed1bcfa1",
   "metadata": {},
   "outputs": [],
   "source": [
    "ls_r.false_alarm_probability(power_r.max())"
   ]
  },
  {
   "cell_type": "code",
   "execution_count": null,
   "id": "d0694061",
   "metadata": {},
   "outputs": [],
   "source": []
  }
 ],
 "metadata": {
  "kernelspec": {
   "display_name": "Python 3",
   "language": "python",
   "name": "python3"
  },
  "language_info": {
   "codemirror_mode": {
    "name": "ipython",
    "version": 3
   },
   "file_extension": ".py",
   "mimetype": "text/x-python",
   "name": "python",
   "nbconvert_exporter": "python",
   "pygments_lexer": "ipython3",
   "version": "3.8.5"
  }
 },
 "nbformat": 4,
 "nbformat_minor": 5
}
